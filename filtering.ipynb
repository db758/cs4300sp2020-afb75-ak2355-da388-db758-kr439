{
 "cells": [
  {
   "cell_type": "code",
   "execution_count": 24,
   "metadata": {},
   "outputs": [
    {
     "name": "stdout",
     "output_type": "stream",
     "text": [
      "['Food', 'Pretzels', 'Bakeries', 'Fast', 'Restaurants', 'Burgers', 'Vietnamese', 'Soup', 'American', 'Traditional', 'Chicken', 'Wings', 'Lebanese', 'Middle', 'Eastern', 'New', 'Hot', 'Dogs', 'Chinese', 'Pizza', 'Breakfast', '&', 'Brunch', 'Salad', 'Trucks', 'Mexican', 'Sandwiches', 'Pubs', 'Bars', 'Beer', 'Wine', 'Spirits', 'Gastropubs', 'British', 'Nightlife', 'Fish', 'Chips', 'Ice', 'Cream', 'Frozen', 'Yogurt', 'Coffee', 'Tea', 'Italian', 'Dive', 'Comfort', 'Filipino', 'Street', 'Vendors', 'Thai', 'Tex-Mex', 'Shop', 'Active', 'Life', 'Summer', 'Camps', 'Personal', 'Chefs', 'Venues', 'Event', 'Spaces', 'Cooking', 'Schools', 'Planning', 'Services', 'Shopping', 'Specialty', 'Classes', 'Party', 'Education', 'Caterers', 'Arts', 'Crafts', 'Desserts', 'Steakhouses', 'Seafood', 'Diners', 'Sushi', 'Barbeque', 'Southern', 'Cafes', 'Pot', 'Canadian', 'Modern', 'European', 'International', 'Grocery', 'Tapas', 'Small', 'Plates', 'Japanese', 'Dim', 'Sum', 'Vegetarian', 'Ramen', 'Vegan', 'Poke', 'Asian', 'Fusion', 'Ethnic', 'Imported', 'Local', 'Flavor', 'Stands', 'Entertainment', 'Festivals', 'Performing', 'Juice', 'Smoothies', 'Mediterranean', 'Halal', 'Cocktail', 'Malaysian', 'Shaved', 'Themed', 'Snow', 'Bubble', 'Waffles', 'Korean', 'Buffets', 'Spanish', 'French', 'Szechuan', 'Indian', 'Shared', 'Office', 'Home', 'Real', 'Estate', 'Bar', 'Lounges', 'Arcades', 'Gluten-Free', 'Fruits', 'Veggies', 'Delivery', 'Ukrainian', 'Polish', 'Sports', 'Delis', 'Portuguese', 'Soul', 'African', 'Fondue', 'Wraps', 'Rooms', 'Sri', 'Lankan', 'Gelato', 'Tacos', 'Greek', 'Turkish', 'Hotel', 'bar', 'Music', 'Poutineries', 'Australian', 'Health', 'Markets', 'Caribbean', 'Nail', 'Salons', 'Beauty', 'Spas', 'Hair', 'Breweries', 'Taiwanese', 'Butcher', 'Automotive', 'Gas', 'Stations', 'Convenience', 'Stores', 'Hookah', 'Kosher', 'Bagels', 'Cajun', 'Creole', 'Reunion', 'Cheesesteaks', 'Irish', 'Afghan', 'Pakistani', 'Noodles', 'Belgian', 'Teppanyaki', 'Hawaiian', 'Dumplings', 'Internet', 'Pasta', 'Shops', 'Creperies', 'Peruvian', 'Wineries', 'Falafel', 'Carpet', 'Cleaning', 'Window', 'Washing', 'Tiling', 'Professional', 'Organization', 'German', 'Slovakian', 'Singaporean', 'Tours', 'Zoos', 'Hotels', 'Travel', 'Art', 'Cideries', 'Pan', 'Casinos', 'Flowers', 'Gifts', 'Gift', 'Roasteries', 'Dance', 'Clubs', 'Mini', 'Golf', 'Cinema', 'Bowling', 'Trampoline', 'Parks', 'Court', 'Donuts', 'Pub', 'Acai', 'Bowls', 'Cantonese', 'Ethiopian', 'Brewpubs', 'Sporting', 'Goods', 'Custom', 'Cakes', 'Jazz', 'Blues', 'Cupcakes', 'Kebab', 'Brasseries', \"Women's\", 'Clothing', 'Fashion', 'Karaoke', 'Meat', 'Latin', 'Salvadoran', 'Egyptian', 'Bistros', 'Cheese', 'Indoor', 'Playcentre', 'Pool', 'Halls', 'Dinner', 'Theater', 'Cafeteria', 'Puerto', 'Rican', 'Indonesian', 'Persian', 'Iranian', 'Moroccan', 'Airports', 'Speakeasies', 'Social', 'Photographers', 'Country', 'Tempura', 'Tonkatsu', 'Smokehouse', 'Tasting', 'Room', 'Cuban', 'Tuscan', 'Hakka', 'Farmers', 'Market', 'Wedding', 'Chapels', 'Brazilian', 'Argentine', 'Delicatessen', 'Izakaya', 'Organic', 'Himalayan', 'Nepalese', 'Do-It-Yourself', 'Hong', 'Kong', 'Style', 'Cafe', 'Chocolatiers', 'Russian', 'Community', 'Service', 'Non-Profit', 'Colombian', 'Kids', 'Activities', 'Live', 'Raw', 'Gardens', 'Venezuelan', 'Tennis', 'Playgrounds', 'Swimming', 'Pools', 'Skating', 'Rinks', 'Hiking', 'Visitor', 'Centers', 'Beaches', 'Patisserie', 'Cake', 'Armenian', 'Laotian', 'Department', 'Florists', 'Wigs', 'Piano', 'Comedy', 'Cuisine', 'Garden', 'Kitchen', 'Bath', 'Stylists', 'Tanning', 'Business', 'Consulting', 'Whiskey', 'Pets', 'Veterinarians', 'Security', 'Systems', 'Hungarian', 'Cambodian', 'Donairs', 'Day', 'Medical', 'Pharmacy', 'Electronics', 'Toy', 'Bangladeshi', 'Auto', 'Upholstery', 'Furniture', 'Reupholstery', 'Detailing', 'Repair', 'Motorcycle', 'RV', 'Customization', 'Gyms', 'Fitness', 'Instruction', 'Bike', 'Maintenance', 'Bed', 'Bikes', 'Conveyor', 'Belt', 'Candy', 'Game', 'Mass', 'Media', 'Soba', 'Massage', 'Public', 'Adult', 'Yoga', 'Curry', 'Couriers', 'Tabletop', 'Games', 'Hobby', 'Escape', 'Musicians', 'Eritrean', 'Martial', 'Jiu-jitsu', 'Trainers', 'Christmas', 'Trees', 'Galleries', 'Holiday', 'Decorations', 'Vitamins', 'Supplements', 'Austrian', 'Books', 'Mags', 'Video', 'Bookstores', 'Used', 'Bookstore', 'Ethical', 'Macarons', 'Basque', 'Arabian', 'Virtual', 'Reality', 'Wear', 'Lessons', 'Bocce', 'Ball', 'Resorts', 'Car', 'Wash', 'Beverage', 'Store', 'Pancakes', 'Barbers', 'Town', 'Transportation', 'Septic', 'Limos', 'Religious', 'Organizations', 'Museums', 'Government', 'Historical', 'Libraries', 'Churches', 'Restaurant', 'Supplies', 'Wholesale', 'Wholesalers', 'Doctors', 'Cardiologists', 'Emergency', 'Medicine', 'Pediatricians', 'Hospitals', 'Pet', 'Groomers', 'Cosmetics', 'Supply', 'Decor', 'Mongolian', 'Dry', 'Laundry', 'Accessories', \"Men's\", 'Vinyl', 'Records', 'Empanadas', 'Eatertainment', 'DJs', 'Fur', 'Pilates', 'Lighting', 'Fixtures', 'Equipment', 'Rentals', 'Audio', 'Visual', 'Rental', 'Photo', 'Booth', 'Haitian', 'Dominican', 'Honduran', 'Calabrian', 'Syrian', 'Studios', 'Colleges', 'Universities', 'Lakes', 'Boating', 'Appliances', 'Grilling', 'Amusement', 'Scandinavian', 'Tobacco', 'Nutritionists', 'South', 'Olive', 'Oil', 'Herbs', 'Spices', 'Head', 'Discount', 'Souvenir', 'Cannabis', 'Dispensaries', 'Landmarks', 'Buildings', 'Ophthalmologists', 'Optometrists', 'Baby', 'Gear', 'Yelp', 'Events', 'Archery', 'Horseback', 'Riding', 'Nicaraguan', 'Contractors', 'Fireplace', 'Outdoor', 'Grill', 'Drugstores', 'Botanical', 'Unofficial', 'Scottish', 'Crawl', 'Soccer', 'Leisure', 'Recreation', 'Go', 'Karts', 'Burmese', 'Herbal', 'Shanghainese', 'Antiques', 'Drive-Thru', 'Tiki', 'Outlet', 'Makeup', 'Artists', 'Therapy', 'Skin', 'Care', 'Gay', 'Removal', 'Supper', 'Towing', 'Nurseries', 'Gardening', 'Floral', 'Designers', 'Paint', 'Sip', 'Iberian', 'Rest', 'Stops', 'Parenting', 'Sugar', 'Shacks', 'Thrift', 'Honey', 'Flea', 'Laser', 'Tag', 'Cultural', 'Center', 'Chimney', 'Czech', 'Champagne', 'Trinidadian', 'IT', 'Computer', 'Mobile', 'Phone', 'Videos', 'Opera', 'Ballet', 'Bridal', 'Jewelry', 'Tai', 'Chi', 'Water', 'Gun', 'Rifle', 'Ranges', 'Spray', 'Teeth', 'Whitening', 'Eyelash', 'Udon', 'Coach', 'Building', 'Pumpkin', 'Patches', 'Pick', 'Your', 'Own', 'Farms', 'Boat', 'Charters', 'Dentists', 'Cigar', 'Ticket', 'Sales', 'Tickets', 'CSA', 'Airport', 'Electricians', 'Leather', 'Shoe', 'Pop-Up', 'Funeral', 'Cemeteries', 'Bartenders', 'Tax', 'Law', 'Wills', 'Trusts', 'Probates', 'Lawyers', 'Bankruptcy', 'Financial', 'Knife', 'Sharpening', 'Adoption', 'Movers', 'Distilleries', 'Weight', 'Loss', 'Amateur', 'Teams', 'Bulgarian', 'Vacation', 'Animal', 'Shelters', 'Comic', 'Polynesian', 'Special', 'High', 'Fidelity', 'Chiropractors', 'Horse', 'Racing', 'Handyman', 'General', 'Dentistry', 'Plumbing', 'Eyebrow', 'Hainan', 'Gutter', 'Pressure', 'Washers', 'Mattresses', 'Kombucha', 'Pita', 'Cabaret', 'Dealers', 'Agents', 'Pop-up', 'Bingo', 'Photography', 'Sicilian', 'Banks', 'Credit', 'Unions', 'Popcorn', 'Check', 'Cashing', 'Pay-day', 'Loans', 'Currency', 'Exchange', 'Vintage', 'Consignment', 'LAN', 'Race', 'Tracks', 'Sitting', 'Physical', 'Waxing', 'Reflexology', 'Uzbek', 'Mountain', 'Biking', 'Gardeners', 'Landscaping', 'Graphic', 'Design', 'Spiritual', 'Candle', 'Strip', 'Observatories', 'Team', 'Ski', 'Truck', 'Commercial', 'Signmaking', 'Vehicle', 'Glass', 'Tinting', 'Masonry', 'Concrete', 'Retreats', 'Rotisserie', 'Door', 'Installation', 'Mirrors', 'Windows', 'Software', 'Development', 'Stadiums', 'Arenas', 'Counseling', 'Mental', 'Accountants', 'Club', 'Terminals', 'Climbing', 'Hardware', 'Printing', 'Screen', 'Rock', 'Cards', 'Stationery', 'Beach', 'Billiards', 'Employment', 'Agencies', 'Bounce', 'House', 'Tub', 'Rehabilitation', 'Technicians', 'Psychologists', 'Reiki', 'Supernatural', 'Readings', 'Meditation', 'Psychics', 'Acupuncture', 'Occupational', 'Hostels', 'Aquarium', 'Aquariums', 'Customized', 'Merchandise', 'Extensions', 'Blow', 'Out', 'Clinics', 'Referrals', 'Naturopathic', 'Holistic', 'Pain', 'Management', 'Recording', 'Rehearsal', 'Web', 'Advertising', 'Interior', 'Kiosk', 'Coffeeshops', 'Bus', 'Balloon', 'Guamanian', 'Print', 'Cosmetic', 'Surgeons', 'Orthodontists', 'Newspapers', 'Magazines', 'Beds', 'Catalan', 'Preschools', 'Drywall', 'Painters', 'Windshield', 'Computers', 'Acne', 'Treatment', 'Cart', 'Dog', 'Walkers', 'Assisted', 'Training', 'Private', 'Tutors', 'Transmission', 'Parts', 'Insurance', 'Change', 'Body', 'Walking', 'Skydiving', 'Studio', 'Taping', 'Paint-Your-Own', 'Pottery', 'Oaxacan', 'Boarding', 'Assistants', 'Shuttles', 'Guest', 'Houses', 'Post', 'Offices', 'Synagogues', 'Collective', 'Tattoo', 'Piercing', 'Meaderies', 'Mauritius', 'Vape', 'Divorce', 'Family', 'Immigration', 'Injury', 'romantic', 'intimate', 'touristy', 'hipster', 'divey', 'classy', 'trendy', 'upscale', 'casual', 'good for kids', 'good for groups']\n"
     ]
    }
   ],
   "source": [
    "import json\n",
    "data = open('yelp-restaurants.txt')\n",
    "relevant_words = []\n",
    "for line in data:\n",
    "    line = json.loads(line)\n",
    "    cat_list = str.split(line['categories'])\n",
    "    relevant_words.extend(cat_list) \n",
    "ambience_words = ['romantic', 'intimate', 'touristy', 'hipster', 'divey', 'classy', 'trendy', 'upscale', 'casual', 'good for kids', 'good for groups']\n",
    "relevant_words.extend(ambience_words)\n",
    "edited_rel = []\n",
    "for elt in relevant_words:\n",
    "    if ',' in elt:\n",
    "        idx = elt.index(',')\n",
    "        if elt[:idx] not in edited_rel:\n",
    "            edited_rel.append(elt[:idx])\n",
    "    else: \n",
    "        if elt not in edited_rel:\n",
    "            edited_rel.append(elt)\n",
    "edit_rel = []\n",
    "for elt in edited_rel:\n",
    "    if ')' in elt:\n",
    "        idx = elt.index(')')\n",
    "        if elt[1:idx] not in edit_rel:\n",
    "            edit_rel.append(elt[1:idx])\n",
    "    else:\n",
    "        if elt not in edit_rel:\n",
    "            edit_rel.append(elt)\n",
    "final_rel = []\n",
    "for elt in edit_rel:\n",
    "    if '/' not in elt and elt not in final_rel:\n",
    "        final_rel.append(elt)\n",
    "    elif '/' in elt:\n",
    "        idx = elt.index('/')\n",
    "        if elt[:idx] not in final_rel:\n",
    "            final_rel.append(elt[:idx])\n",
    "        if elt[idx+1:] not in final_rel:\n",
    "            final_rel.append(elt[idx+1:])\n",
    "print(final_rel)"
   ]
  },
  {
   "cell_type": "code",
   "execution_count": 29,
   "metadata": {},
   "outputs": [],
   "source": [
    "import pandas as pd\n",
    "import csv\n",
    "\n",
    "rel = ['Food', 'Pretzels', 'Bakeries', 'Fast Food', 'Restaurants', 'Burgers', 'Vietnamese', 'Soup', 'American', 'Traditional', 'Chicken', 'Wings', 'Lebanese', 'Middle Eastern', 'New', 'Hot Dogs', 'Chinese', 'Pizza', 'Breakfast', 'Brunch', 'Salad', 'Food Trucks', 'Mexican', 'Sandwiches', 'Pubs', 'Bars', 'Beer', 'Wine', 'Spirits', 'Gastropubs', 'British', 'Nightlife', 'Fish', 'Chips', 'Ice Cream', 'Frozen', 'Yogurt', 'Coffee', 'Tea', 'Italian', 'Comfort', 'Filipino', 'Street', 'Vendors', 'Thai', 'Tex-Mex', 'Personal', 'Chefs', 'Cooking', 'Specialty', 'Caterers', 'Desserts', 'Steakhouses', 'Seafood', 'Diners', 'Sushi', 'Barbeque', 'Southern', 'Cafes', 'Canadian', 'Modern', 'European', 'International', 'Grocery', 'Tapas', 'Small', 'Plates', 'Japanese', 'Dim Sum', 'Vegetarian', 'Ramen', 'Vegan', 'Poke', 'Asian', 'Fusion', 'Ethnic', 'Imported', 'Local', 'Flavor', 'Stands', 'Entertainment', 'Juice', 'Smoothies', 'Mediterranean', 'Halal', 'Cocktail', 'Malaysian', 'Shaved', 'Themed', 'Snow', 'Bubble', 'Waffles', 'Korean', 'Buffets', 'Spanish', 'French', 'Szechuan', 'Indian', 'Shared', 'Bar', 'Lounges', 'Gluten-Free', 'Fruits', 'Veggies', 'Delivery', 'Ukrainian', 'Polish', 'Delis', 'Portuguese', 'Soul', 'African', 'Fondue', 'Wraps', 'Sri Lankan', 'Gelato', 'Tacos', 'Greek', 'Turkish', 'Hotel', 'bar', 'Music', 'Poutineries', 'Australian', 'Health', 'Markets', 'Caribbean', 'Breweries', 'Taiwanese', 'Butcher', 'Convenience', 'Stores', 'Hookah', 'Kosher', 'Bagels', 'Cajun', 'Creole', 'Reunion', 'Cheesesteaks', 'Irish', 'Afghan', 'Pakistani', 'Noodles', 'Belgian', 'Teppanyaki', 'Hawaiian', 'Dumplings', 'Pasta', 'Creperies', 'Peruvian', 'Wineries', 'Falafel', 'German', 'Slovakian', 'Singaporean', 'Cideries', 'Pan', 'Flowers', 'Roasteries', 'Donuts', 'Pub', 'Acai', 'Bowls', 'Cantonese', 'Ethiopian', 'Brewpubs', 'Custom', 'Cakes', 'Jazz', 'Blues', 'Cupcakes', 'Kebab', 'Brasseries', 'Meat', 'Latin', 'Salvadoran', 'Egyptian', 'Bistros', 'Cheese', 'Indoor', 'Dinner', 'Cafeteria', 'Puerto Rican', 'Indonesian', 'Persian', 'Iranian', 'Moroccan', 'Speakeasies', 'Social', 'Country', 'Tempura', 'Tonkatsu', 'Smokehouse', 'Tasting', 'Room', 'Cuban', 'Tuscan', 'Hakka', 'Farmers', 'Market', 'Brazilian', 'Argentine', 'Delicatessen', 'Izakaya', 'Organic', 'Himalayan', 'Nepalese', 'Do-It-Yourself', 'Hong Kong', 'Style', 'Cafe', 'Chocolatiers', 'Russian', 'Non-Profit', 'Colombian', 'Kids', 'Raw', 'Gardens', 'Venezuelan', 'Patisserie', 'Cake', 'Armenian', 'Laotian', 'Cuisine', 'Garden', 'Kitchen', 'Whiskey', 'Hungarian', 'Cambodian', 'Donairs', 'Day', 'Bangladeshi', 'Candy', 'Soba', 'Adult', 'Curry', 'Tabletop', 'Musicians', 'Eritrean', 'Christmas', 'Holiday', 'Vitamins', 'Supplements', 'Austrian', 'Ethical', 'Macarons', 'Basque', 'Arabian', 'Beverage', 'Store', 'Pancakes', 'Restaurant', 'Mongolian', 'Empanadas', 'Eatertainment', 'Haitian', 'Dominican', 'Honduran', 'Calabrian', 'Syrian', 'Grilling', 'Scandinavian', 'South', 'Olive', 'Oil', 'Herbs', 'Spices', 'Nicaraguan', 'Outdoor', 'Grill', 'Scottish', 'Burmese', 'Herbal', 'Shanghainese', 'Drive-Thru', 'Tiki', 'Supper', 'Iberian', 'Sugar', 'Honey', 'Czech', 'Champagne', 'Trinidadian', 'Water', 'Udon', 'Pumpkin', 'Patches', 'Farms','Knife', 'Distilleries', 'Bulgarian', 'Polynesian', 'Special', 'Hainan', 'Kombucha', 'Pita', 'Cabaret', 'Sicilian', 'Popcorn', 'Uzbek', 'Rotisserie','Coffeeshops', 'Guamanian', 'Catalan', 'Oaxacan', 'Guest', 'Collective', 'Meaderies', 'Mauritius', 'Family', 'romantic', 'intimate', 'touristy', 'hipster', 'divey', 'classy', 'trendy', 'upscale', 'casual', 'good for kids', 'good for groups']\n",
    "att = ['romantic', 'intimate', 'touristy', 'hipster', 'divey', 'classy', 'trendy', 'upscale', 'casual', 'good for kids', 'good for groups']\n",
    "\n",
    "data = pd.read_csv('wiki_movie_plots_deduped.csv')\n",
    "data[\"categories\"] = \"\"\n",
    "data[\"attributes\"] = \"\"\n",
    "data[\"all keywords\"] = \"\"\n",
    "\n",
    "idx = 0\n",
    "for index, row in data.iterrows():\n",
    "    att_lst = []\n",
    "    cat_lst = []\n",
    "    both_lst = []\n",
    "    for word in rel:\n",
    "        if (word.lower() in row['Title'].lower()) or (word.lower() in row['Origin/Ethnicity'].lower()) or (word.lower() in row['Genre'].lower()) or (word.lower() in row['Plot'].lower()):\n",
    "            if word in att:\n",
    "                att_lst.append(word)\n",
    "            else:\n",
    "                cat_lst.append(word)\n",
    "            both_lst.extend(att_lst)\n",
    "            both_lst.extend(cat_lst)\n",
    "            \n",
    "    if not (len(att_lst)==0 and len(cat_lst)==0 and len(both_lst)==0):\n",
    "        row['attributes'] = att_lst\n",
    "        row['categories'] = cat_lst\n",
    "        row['all keywords']= both_lst\n",
    "\n",
    "        with open('filtered_movie_plots.csv', mode='a') as filtered_file:\n",
    "            filtered_writer = csv.writer(filtered_file, delimiter=',', quotechar='\"', quoting=csv.QUOTE_MINIMAL)\n",
    "            filtered_writer.writerow(data.iloc[idx])\n",
    "    idx +=1\n",
    "\n",
    "filtered = pd.read_csv('filtered_movie_plots.csv')\n",
    "filtered.drop_duplicates(keep = 'first')\n",
    "\n",
    "filtered.to_csv('final_filtered.csv')\n",
    "#remember to drop duplicates "
   ]
  },
  {
   "cell_type": "code",
   "execution_count": null,
   "metadata": {},
   "outputs": [],
   "source": []
  }
 ],
 "metadata": {
  "kernelspec": {
   "display_name": "Python 3",
   "language": "python",
   "name": "python3"
  },
  "language_info": {
   "codemirror_mode": {
    "name": "ipython",
    "version": 3
   },
   "file_extension": ".py",
   "mimetype": "text/x-python",
   "name": "python",
   "nbconvert_exporter": "python",
   "pygments_lexer": "ipython3",
   "version": "3.7.1"
  }
 },
 "nbformat": 4,
 "nbformat_minor": 2
}
